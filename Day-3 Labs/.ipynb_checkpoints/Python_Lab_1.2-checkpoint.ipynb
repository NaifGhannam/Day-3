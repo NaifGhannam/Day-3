{
 "cells": [
  {
   "cell_type": "markdown",
   "metadata": {},
   "source": [
    "# Python_Lab_1.2"
   ]
  },
  {
   "cell_type": "markdown",
   "metadata": {},
   "source": [
    "### Task 1: \n",
    "1. Create a tuple with the following details:\n",
    "    - Your favorite movie (string)\n",
    "    - The year it was released (integer)\n",
    "    - Its rating out of 10 (float)\n",
    "    - Whether you have watched it (boolean)\n",
    "2. Print the detailes"
   ]
  },
  {
   "cell_type": "code",
   "execution_count": 1,
   "metadata": {},
   "outputs": [
    {
     "name": "stdout",
     "output_type": "stream",
     "text": [
      "('shbab albumb', 2012, 10.0, True)\n"
     ]
    }
   ],
   "source": [
    "favorite_movie =(\"shbab albumb\",2012,10.0,True)\n",
    "print(favorite_movie)"
   ]
  },
  {
   "cell_type": "markdown",
   "metadata": {},
   "source": [
    "### Task 2:\n",
    "1. Create a set of 5 favorite colors.\n",
    "2. Print all the colors"
   ]
  },
  {
   "cell_type": "code",
   "execution_count": 3,
   "metadata": {},
   "outputs": [
    {
     "name": "stdout",
     "output_type": "stream",
     "text": [
      "{'pink', 'yellow', 'green', 'blue', 'red'}\n"
     ]
    }
   ],
   "source": [
    "favorit_color ={\"yellow\",\"red\",\"green\",\"blue\",\"pink\"}\n",
    "print(favorit_color)"
   ]
  },
  {
   "cell_type": "markdown",
   "metadata": {},
   "source": [
    "### Task 3:\n",
    "1. Create a dictionary to store information about 3 friends (name as key and a tuple with age and favorite hobby as value).\n",
    "2. Print the details of all friends."
   ]
  },
  {
   "cell_type": "code",
   "execution_count": 5,
   "metadata": {},
   "outputs": [
    {
     "name": "stdout",
     "output_type": "stream",
     "text": [
      "{'nawaf': (22, 'football'), 'samer': (22, 'sweming'), 'Ali': (23, 'basketball')}\n"
     ]
    }
   ],
   "source": [
    "frinds={\"nawaf\":(22,\"football\"),\"samer\":(22,\"sweming\"),\"Ali\":(23,\"basketball\")}\n",
    "print(frinds)"
   ]
  },
  {
   "cell_type": "markdown",
   "metadata": {},
   "source": [
    "### Task 4:\n",
    "1. Check if you have watched the movie and print an appropriate message.\n",
    "1. Check if a specific color is in your favorite colors set and print its availability status."
   ]
  },
  {
   "cell_type": "code",
   "execution_count": 19,
   "metadata": {},
   "outputs": [
    {
     "name": "stdout",
     "output_type": "stream",
     "text": [
      "yse , i have watched the movie shbab albumb\n",
      "it's availibl\n"
     ]
    }
   ],
   "source": [
    "if favorite_movie[3] == True :\n",
    "    print(\"yse , i have watched the movie\",favorite_movie[0])\n",
    "else :\n",
    "    print(\"no , i have not watched the movie\",favorite_movie[0])\n",
    "\n",
    "i=\"pink\"\n",
    "\n",
    "if i in favorit_color:\n",
    "    print(\"it's availibl\")\n",
    "else:\n",
    "    print(\"it's not availibl\")\n",
    "    "
   ]
  },
  {
   "cell_type": "markdown",
   "metadata": {},
   "source": []
  }
 ],
 "metadata": {
  "kernelspec": {
   "display_name": "Python 3 (ipykernel)",
   "language": "python",
   "name": "python3"
  },
  "language_info": {
   "codemirror_mode": {
    "name": "ipython",
    "version": 3
   },
   "file_extension": ".py",
   "mimetype": "text/x-python",
   "name": "python",
   "nbconvert_exporter": "python",
   "pygments_lexer": "ipython3",
   "version": "3.12.4"
  }
 },
 "nbformat": 4,
 "nbformat_minor": 4
}
